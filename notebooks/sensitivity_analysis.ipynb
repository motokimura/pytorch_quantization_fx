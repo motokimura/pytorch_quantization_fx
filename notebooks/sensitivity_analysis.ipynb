{
 "cells": [
  {
   "cell_type": "code",
   "execution_count": 1,
   "metadata": {},
   "outputs": [],
   "source": [
    "# references:\n",
    "# https://pytorch.org/blog/quantization-in-practice/"
   ]
  },
  {
   "cell_type": "code",
   "execution_count": 2,
   "metadata": {},
   "outputs": [
    {
     "name": "stderr",
     "output_type": "stream",
     "text": [
      "/opt/conda/lib/python3.10/site-packages/tqdm/auto.py:22: TqdmWarning: IProgress not found. Please update jupyter and ipywidgets. See https://ipywidgets.readthedocs.io/en/stable/user_install.html\n",
      "  from .autonotebook import tqdm as notebook_tqdm\n"
     ]
    }
   ],
   "source": [
    "import copy\n",
    "\n",
    "import pandas as pd\n",
    "import torch\n",
    "from torch.quantization import get_default_qconfig, quantize_fx\n",
    "\n",
    "from lib.mobilenetv2 import mobilenet_v2\n",
    "from lib.utils import calibrate, configure_cudnn, prepare_calib_dataloader, prepare_dataloaders, replace_relu, set_seed, test"
   ]
  },
  {
   "cell_type": "code",
   "execution_count": 3,
   "metadata": {},
   "outputs": [],
   "source": [
    "backend = \"fbgemm\"\n",
    "torch.backends.quantized.engine = backend\n",
    "\n",
    "seed = 1000\n",
    "set_seed(seed)\n",
    "configure_cudnn(deterministic=True, benchmark=False)"
   ]
  },
  {
   "cell_type": "code",
   "execution_count": 4,
   "metadata": {},
   "outputs": [],
   "source": [
    "# prepare float model\n",
    "model = mobilenet_v2()\n",
    "model.eval()\n",
    "\n",
    "weight_path = \"../models/exp_4000/best_model.pth\"\n",
    "state_dict = torch.load(weight_path)\n",
    "model.load_state_dict(state_dict)\n",
    "\n",
    "replace_relu(model)"
   ]
  },
  {
   "cell_type": "code",
   "execution_count": 5,
   "metadata": {},
   "outputs": [
    {
     "name": "stdout",
     "output_type": "stream",
     "text": [
      "Files already downloaded and verified\n",
      "Files already downloaded and verified\n",
      "Files already downloaded and verified\n"
     ]
    },
    {
     "name": "stderr",
     "output_type": "stream",
     "text": [
      "/opt/conda/lib/python3.10/site-packages/torch/ao/quantization/fx/prepare.py:1530: UserWarning: Passing a QConfig dictionary to prepare is deprecated and will not be supported in a future version. Please pass in a QConfigMapping instead.\n",
      "  warnings.warn(\n",
      "/opt/conda/lib/python3.10/site-packages/torch/ao/quantization/observer.py:214: UserWarning: Please use quant_min and quant_max to specify the range for observers.                     reduce_range will be deprecated in a future release of PyTorch.\n",
      "  warnings.warn(\n",
      "calib: 100%|██████████| 32/32 [00:08<00:00,  3.79it/s]\n",
      "test: 100%|██████████| 313/313 [00:13<00:00, 23.73it/s]\n"
     ]
    },
    {
     "data": {
      "text/plain": [
       "0.9622"
      ]
     },
     "execution_count": 5,
     "metadata": {},
     "output_type": "execute_result"
    }
   ],
   "source": [
    "_, test_dataloader = prepare_dataloaders(batch_size=32)\n",
    "calib_dataloader = prepare_calib_dataloader(batch_size=32)\n",
    "\n",
    "example_inputs = (torch.randn(1, 3, 32, 32),)\n",
    "model_quantized = copy.deepcopy(model)\n",
    "qconfig = {\n",
    "    \"\": get_default_qconfig(backend)\n",
    "}\n",
    "model_quantized = quantize_fx.prepare_fx(model_quantized.eval(), qconfig, example_inputs)  # fuse\n",
    "\n",
    "# quantize the model\n",
    "calibrate(model_quantized, calib_dataloader, n_calib_batch=32)\n",
    "model_quantized = quantize_fx.convert_fx(model_quantized.eval())  # quantize\n",
    "\n",
    "test(model_quantized, \"cpu\", test_dataloader)"
   ]
  },
  {
   "cell_type": "code",
   "execution_count": 6,
   "metadata": {},
   "outputs": [
    {
     "data": {
      "text/plain": [
       "['features.0',\n",
       " 'features.1',\n",
       " 'features.2',\n",
       " 'features.3',\n",
       " 'features.4',\n",
       " 'features.5',\n",
       " 'features.6',\n",
       " 'features.7',\n",
       " 'features.8',\n",
       " 'features.9',\n",
       " 'features.10',\n",
       " 'features.11',\n",
       " 'features.12',\n",
       " 'features.13',\n",
       " 'features.14',\n",
       " 'features.15',\n",
       " 'features.16',\n",
       " 'features.17',\n",
       " 'features.18',\n",
       " 'classifier']"
      ]
     },
     "execution_count": 6,
     "metadata": {},
     "output_type": "execute_result"
    }
   ],
   "source": [
    "# target blocks for sensitivity analysis\n",
    "block_names = [f\"features.{i}\" for i in range(18 + 1)]\n",
    "block_names.append(\"classifier\")\n",
    "\n",
    "block_names"
   ]
  },
  {
   "cell_type": "code",
   "execution_count": 7,
   "metadata": {},
   "outputs": [
    {
     "name": "stdout",
     "output_type": "stream",
     "text": [
      "Files already downloaded and verified\n"
     ]
    },
    {
     "name": "stderr",
     "output_type": "stream",
     "text": [
      "calib: 100%|██████████| 32/32 [00:03<00:00,  9.12it/s]\n",
      "test: 100%|██████████| 313/313 [00:46<00:00,  6.67it/s]\n"
     ]
    },
    {
     "name": "stdout",
     "output_type": "stream",
     "text": [
      "features.0 0.9637\n",
      "Files already downloaded and verified\n"
     ]
    },
    {
     "name": "stderr",
     "output_type": "stream",
     "text": [
      "calib: 100%|██████████| 32/32 [00:07<00:00,  4.29it/s]\n",
      "test: 100%|██████████| 313/313 [00:45<00:00,  6.82it/s]\n"
     ]
    },
    {
     "name": "stdout",
     "output_type": "stream",
     "text": [
      "features.1 0.9644\n",
      "Files already downloaded and verified\n"
     ]
    },
    {
     "name": "stderr",
     "output_type": "stream",
     "text": [
      "calib: 100%|██████████| 32/32 [00:08<00:00,  3.97it/s]\n",
      "test: 100%|██████████| 313/313 [00:46<00:00,  6.77it/s]\n"
     ]
    },
    {
     "name": "stdout",
     "output_type": "stream",
     "text": [
      "features.2 0.9634\n",
      "Files already downloaded and verified\n"
     ]
    },
    {
     "name": "stderr",
     "output_type": "stream",
     "text": [
      "calib: 100%|██████████| 32/32 [00:09<00:00,  3.33it/s]\n",
      "test: 100%|██████████| 313/313 [01:20<00:00,  3.87it/s]\n"
     ]
    },
    {
     "name": "stdout",
     "output_type": "stream",
     "text": [
      "features.3 0.9633\n",
      "Files already downloaded and verified\n"
     ]
    },
    {
     "name": "stderr",
     "output_type": "stream",
     "text": [
      "calib: 100%|██████████| 32/32 [00:08<00:00,  3.97it/s]\n",
      "test: 100%|██████████| 313/313 [00:50<00:00,  6.17it/s]\n"
     ]
    },
    {
     "name": "stdout",
     "output_type": "stream",
     "text": [
      "features.4 0.964\n",
      "Files already downloaded and verified\n"
     ]
    },
    {
     "name": "stderr",
     "output_type": "stream",
     "text": [
      "calib: 100%|██████████| 32/32 [00:08<00:00,  3.82it/s]\n",
      "test: 100%|██████████| 313/313 [01:26<00:00,  3.63it/s]\n"
     ]
    },
    {
     "name": "stdout",
     "output_type": "stream",
     "text": [
      "features.5 0.9642\n",
      "Files already downloaded and verified\n"
     ]
    },
    {
     "name": "stderr",
     "output_type": "stream",
     "text": [
      "calib: 100%|██████████| 32/32 [00:08<00:00,  3.66it/s]\n",
      "test: 100%|██████████| 313/313 [00:32<00:00,  9.50it/s]\n"
     ]
    },
    {
     "name": "stdout",
     "output_type": "stream",
     "text": [
      "features.6 0.9639\n",
      "Files already downloaded and verified\n"
     ]
    },
    {
     "name": "stderr",
     "output_type": "stream",
     "text": [
      "calib: 100%|██████████| 32/32 [00:08<00:00,  3.79it/s]\n",
      "test: 100%|██████████| 313/313 [00:55<00:00,  5.66it/s]\n"
     ]
    },
    {
     "name": "stdout",
     "output_type": "stream",
     "text": [
      "features.7 0.9637\n",
      "Files already downloaded and verified\n"
     ]
    },
    {
     "name": "stderr",
     "output_type": "stream",
     "text": [
      "calib: 100%|██████████| 32/32 [00:08<00:00,  3.64it/s]\n",
      "test: 100%|██████████| 313/313 [01:24<00:00,  3.69it/s]\n"
     ]
    },
    {
     "name": "stdout",
     "output_type": "stream",
     "text": [
      "features.8 0.9639\n",
      "Files already downloaded and verified\n"
     ]
    },
    {
     "name": "stderr",
     "output_type": "stream",
     "text": [
      "calib: 100%|██████████| 32/32 [00:08<00:00,  3.76it/s]\n",
      "test: 100%|██████████| 313/313 [01:22<00:00,  3.78it/s]\n"
     ]
    },
    {
     "name": "stdout",
     "output_type": "stream",
     "text": [
      "features.9 0.9641\n",
      "Files already downloaded and verified\n"
     ]
    },
    {
     "name": "stderr",
     "output_type": "stream",
     "text": [
      "calib: 100%|██████████| 32/32 [00:08<00:00,  3.74it/s]\n",
      "test: 100%|██████████| 313/313 [01:23<00:00,  3.77it/s]\n"
     ]
    },
    {
     "name": "stdout",
     "output_type": "stream",
     "text": [
      "features.10 0.9637\n",
      "Files already downloaded and verified\n"
     ]
    },
    {
     "name": "stderr",
     "output_type": "stream",
     "text": [
      "calib: 100%|██████████| 32/32 [00:08<00:00,  3.76it/s]\n",
      "test: 100%|██████████| 313/313 [01:15<00:00,  4.13it/s]\n"
     ]
    },
    {
     "name": "stdout",
     "output_type": "stream",
     "text": [
      "features.11 0.9638\n",
      "Files already downloaded and verified\n"
     ]
    },
    {
     "name": "stderr",
     "output_type": "stream",
     "text": [
      "calib: 100%|██████████| 32/32 [00:09<00:00,  3.46it/s]\n",
      "test: 100%|██████████| 313/313 [01:21<00:00,  3.85it/s]\n"
     ]
    },
    {
     "name": "stdout",
     "output_type": "stream",
     "text": [
      "features.12 0.964\n",
      "Files already downloaded and verified\n"
     ]
    },
    {
     "name": "stderr",
     "output_type": "stream",
     "text": [
      "calib: 100%|██████████| 32/32 [00:09<00:00,  3.41it/s]\n",
      "test: 100%|██████████| 313/313 [01:20<00:00,  3.91it/s]\n"
     ]
    },
    {
     "name": "stdout",
     "output_type": "stream",
     "text": [
      "features.13 0.964\n",
      "Files already downloaded and verified\n"
     ]
    },
    {
     "name": "stderr",
     "output_type": "stream",
     "text": [
      "calib: 100%|██████████| 32/32 [00:08<00:00,  3.88it/s]\n",
      "test: 100%|██████████| 313/313 [01:19<00:00,  3.95it/s]\n"
     ]
    },
    {
     "name": "stdout",
     "output_type": "stream",
     "text": [
      "features.14 0.9638\n",
      "Files already downloaded and verified\n"
     ]
    },
    {
     "name": "stderr",
     "output_type": "stream",
     "text": [
      "calib: 100%|██████████| 32/32 [00:08<00:00,  4.00it/s]\n",
      "test: 100%|██████████| 313/313 [01:26<00:00,  3.61it/s]\n"
     ]
    },
    {
     "name": "stdout",
     "output_type": "stream",
     "text": [
      "features.15 0.9642\n",
      "Files already downloaded and verified\n"
     ]
    },
    {
     "name": "stderr",
     "output_type": "stream",
     "text": [
      "calib: 100%|██████████| 32/32 [00:07<00:00,  4.04it/s]\n",
      "test: 100%|██████████| 313/313 [01:24<00:00,  3.71it/s]\n"
     ]
    },
    {
     "name": "stdout",
     "output_type": "stream",
     "text": [
      "features.16 0.9641\n",
      "Files already downloaded and verified\n"
     ]
    },
    {
     "name": "stderr",
     "output_type": "stream",
     "text": [
      "calib: 100%|██████████| 32/32 [00:08<00:00,  3.80it/s]\n",
      "test: 100%|██████████| 313/313 [01:25<00:00,  3.65it/s]\n"
     ]
    },
    {
     "name": "stdout",
     "output_type": "stream",
     "text": [
      "features.17 0.964\n",
      "Files already downloaded and verified\n"
     ]
    },
    {
     "name": "stderr",
     "output_type": "stream",
     "text": [
      "calib: 100%|██████████| 32/32 [00:09<00:00,  3.27it/s]\n",
      "test: 100%|██████████| 313/313 [01:26<00:00,  3.63it/s]\n"
     ]
    },
    {
     "name": "stdout",
     "output_type": "stream",
     "text": [
      "features.18 0.9638\n",
      "Files already downloaded and verified\n"
     ]
    },
    {
     "name": "stderr",
     "output_type": "stream",
     "text": [
      "calib: 100%|██████████| 32/32 [00:09<00:00,  3.43it/s]\n",
      "test: 100%|██████████| 313/313 [01:26<00:00,  3.60it/s]"
     ]
    },
    {
     "name": "stdout",
     "output_type": "stream",
     "text": [
      "classifier 0.9638\n"
     ]
    },
    {
     "name": "stderr",
     "output_type": "stream",
     "text": [
      "\n"
     ]
    }
   ],
   "source": [
    "# run sensitivity analysis per block\n",
    "results = []\n",
    "\n",
    "for block_quantized in block_names:\n",
    "    model_quantized = copy.deepcopy(model)\n",
    "    qconfig = {\n",
    "        \"\": None,\n",
    "        \"module_name\": [\n",
    "            (block_quantized, get_default_qconfig(backend))\n",
    "        ]\n",
    "    }\n",
    "    model_quantized = quantize_fx.prepare_fx(model_quantized.eval(), qconfig, example_inputs)  # fuse\n",
    "\n",
    "    calib_dataloader = prepare_calib_dataloader(batch_size=32)\n",
    "    calibrate(model_quantized, calib_dataloader, n_calib_batch=32)\n",
    "    model_quantized = quantize_fx.convert_fx(model_quantized.eval())  # quantize\n",
    "\n",
    "    test_accuracy = test(model_quantized, \"cpu\", test_dataloader)\n",
    "\n",
    "    print(block_quantized, test_accuracy)\n",
    "\n",
    "    results.append({\n",
    "        \"block_quantized\": block_quantized,\n",
    "        \"test_accuracy\": test_accuracy\n",
    "    })"
   ]
  },
  {
   "cell_type": "code",
   "execution_count": 8,
   "metadata": {},
   "outputs": [
    {
     "data": {
      "text/html": [
       "<div>\n",
       "<style scoped>\n",
       "    .dataframe tbody tr th:only-of-type {\n",
       "        vertical-align: middle;\n",
       "    }\n",
       "\n",
       "    .dataframe tbody tr th {\n",
       "        vertical-align: top;\n",
       "    }\n",
       "\n",
       "    .dataframe thead th {\n",
       "        text-align: right;\n",
       "    }\n",
       "</style>\n",
       "<table border=\"1\" class=\"dataframe\">\n",
       "  <thead>\n",
       "    <tr style=\"text-align: right;\">\n",
       "      <th></th>\n",
       "      <th>block_quantized</th>\n",
       "      <th>test_accuracy</th>\n",
       "    </tr>\n",
       "  </thead>\n",
       "  <tbody>\n",
       "    <tr>\n",
       "      <th>3</th>\n",
       "      <td>features.3</td>\n",
       "      <td>0.9633</td>\n",
       "    </tr>\n",
       "    <tr>\n",
       "      <th>2</th>\n",
       "      <td>features.2</td>\n",
       "      <td>0.9634</td>\n",
       "    </tr>\n",
       "    <tr>\n",
       "      <th>0</th>\n",
       "      <td>features.0</td>\n",
       "      <td>0.9637</td>\n",
       "    </tr>\n",
       "    <tr>\n",
       "      <th>10</th>\n",
       "      <td>features.10</td>\n",
       "      <td>0.9637</td>\n",
       "    </tr>\n",
       "    <tr>\n",
       "      <th>7</th>\n",
       "      <td>features.7</td>\n",
       "      <td>0.9637</td>\n",
       "    </tr>\n",
       "    <tr>\n",
       "      <th>14</th>\n",
       "      <td>features.14</td>\n",
       "      <td>0.9638</td>\n",
       "    </tr>\n",
       "    <tr>\n",
       "      <th>11</th>\n",
       "      <td>features.11</td>\n",
       "      <td>0.9638</td>\n",
       "    </tr>\n",
       "    <tr>\n",
       "      <th>18</th>\n",
       "      <td>features.18</td>\n",
       "      <td>0.9638</td>\n",
       "    </tr>\n",
       "    <tr>\n",
       "      <th>19</th>\n",
       "      <td>classifier</td>\n",
       "      <td>0.9638</td>\n",
       "    </tr>\n",
       "    <tr>\n",
       "      <th>6</th>\n",
       "      <td>features.6</td>\n",
       "      <td>0.9639</td>\n",
       "    </tr>\n",
       "    <tr>\n",
       "      <th>8</th>\n",
       "      <td>features.8</td>\n",
       "      <td>0.9639</td>\n",
       "    </tr>\n",
       "    <tr>\n",
       "      <th>4</th>\n",
       "      <td>features.4</td>\n",
       "      <td>0.9640</td>\n",
       "    </tr>\n",
       "    <tr>\n",
       "      <th>12</th>\n",
       "      <td>features.12</td>\n",
       "      <td>0.9640</td>\n",
       "    </tr>\n",
       "    <tr>\n",
       "      <th>13</th>\n",
       "      <td>features.13</td>\n",
       "      <td>0.9640</td>\n",
       "    </tr>\n",
       "    <tr>\n",
       "      <th>17</th>\n",
       "      <td>features.17</td>\n",
       "      <td>0.9640</td>\n",
       "    </tr>\n",
       "    <tr>\n",
       "      <th>16</th>\n",
       "      <td>features.16</td>\n",
       "      <td>0.9641</td>\n",
       "    </tr>\n",
       "    <tr>\n",
       "      <th>9</th>\n",
       "      <td>features.9</td>\n",
       "      <td>0.9641</td>\n",
       "    </tr>\n",
       "    <tr>\n",
       "      <th>5</th>\n",
       "      <td>features.5</td>\n",
       "      <td>0.9642</td>\n",
       "    </tr>\n",
       "    <tr>\n",
       "      <th>15</th>\n",
       "      <td>features.15</td>\n",
       "      <td>0.9642</td>\n",
       "    </tr>\n",
       "    <tr>\n",
       "      <th>1</th>\n",
       "      <td>features.1</td>\n",
       "      <td>0.9644</td>\n",
       "    </tr>\n",
       "  </tbody>\n",
       "</table>\n",
       "</div>"
      ],
      "text/plain": [
       "   block_quantized  test_accuracy\n",
       "3       features.3         0.9633\n",
       "2       features.2         0.9634\n",
       "0       features.0         0.9637\n",
       "10     features.10         0.9637\n",
       "7       features.7         0.9637\n",
       "14     features.14         0.9638\n",
       "11     features.11         0.9638\n",
       "18     features.18         0.9638\n",
       "19      classifier         0.9638\n",
       "6       features.6         0.9639\n",
       "8       features.8         0.9639\n",
       "4       features.4         0.9640\n",
       "12     features.12         0.9640\n",
       "13     features.13         0.9640\n",
       "17     features.17         0.9640\n",
       "16     features.16         0.9641\n",
       "9       features.9         0.9641\n",
       "5       features.5         0.9642\n",
       "15     features.15         0.9642\n",
       "1       features.1         0.9644"
      ]
     },
     "execution_count": 8,
     "metadata": {},
     "output_type": "execute_result"
    }
   ],
   "source": [
    "df = pd.DataFrame(results)\n",
    "df.sort_values(by=\"test_accuracy\", inplace=True, ascending=True)\n",
    "df"
   ]
  },
  {
   "cell_type": "code",
   "execution_count": 9,
   "metadata": {},
   "outputs": [
    {
     "data": {
      "text/plain": [
       "[('features.3', None),\n",
       " ('features.2', None),\n",
       " ('features.0', None),\n",
       " ('features.10', None),\n",
       " ('features.7', None),\n",
       " ('features.14', None)]"
      ]
     },
     "execution_count": 9,
     "metadata": {},
     "output_type": "execute_result"
    }
   ],
   "source": [
    "# disable quantization for N-most sensitive blocks\n",
    "N = 6\n",
    "blocks_not_quantized = []\n",
    "\n",
    "for i, row in df.iterrows():\n",
    "    blocks_not_quantized.append((row.block_quantized, None))\n",
    "    if len(blocks_not_quantized) >= N:\n",
    "        break\n",
    "\n",
    "blocks_not_quantized"
   ]
  },
  {
   "cell_type": "code",
   "execution_count": 11,
   "metadata": {},
   "outputs": [
    {
     "name": "stdout",
     "output_type": "stream",
     "text": [
      "Files already downloaded and verified\n"
     ]
    },
    {
     "name": "stderr",
     "output_type": "stream",
     "text": [
      "calib: 100%|██████████| 32/32 [00:14<00:00,  2.20it/s]\n",
      "test: 100%|██████████| 313/313 [00:20<00:00, 15.35it/s]"
     ]
    },
    {
     "name": "stdout",
     "output_type": "stream",
     "text": [
      "0.9638\n"
     ]
    },
    {
     "name": "stderr",
     "output_type": "stream",
     "text": [
      "\n"
     ]
    }
   ],
   "source": [
    "model_quantized = copy.deepcopy(model)\n",
    "\n",
    "qconfig = {\n",
    "    \"\": get_default_qconfig(backend),\n",
    "    \"module_name\": blocks_not_quantized\n",
    "}\n",
    "model_quantized = quantize_fx.prepare_fx(model_quantized.eval(), qconfig, example_inputs)  # fuse\n",
    "\n",
    "calib_dataloader = prepare_calib_dataloader(batch_size=32)\n",
    "calibrate(model_quantized, calib_dataloader, n_calib_batch=32)\n",
    "model_quantized = quantize_fx.convert_fx(model_quantized.eval())  # quantize\n",
    "\n",
    "test_accuracy = test(model_quantized, \"cpu\", test_dataloader)\n",
    "\n",
    "print(test_accuracy)"
   ]
  },
  {
   "cell_type": "code",
   "execution_count": null,
   "metadata": {},
   "outputs": [],
   "source": []
  }
 ],
 "metadata": {
  "kernelspec": {
   "display_name": "base",
   "language": "python",
   "name": "python3"
  },
  "language_info": {
   "codemirror_mode": {
    "name": "ipython",
    "version": 3
   },
   "file_extension": ".py",
   "mimetype": "text/x-python",
   "name": "python",
   "nbconvert_exporter": "python",
   "pygments_lexer": "ipython3",
   "version": "3.10.8"
  },
  "orig_nbformat": 4,
  "vscode": {
   "interpreter": {
    "hash": "d4d1e4263499bec80672ea0156c357c1ee493ec2b1c70f0acce89fc37c4a6abe"
   }
  }
 },
 "nbformat": 4,
 "nbformat_minor": 2
}
